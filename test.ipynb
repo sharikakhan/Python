{
 "cells": [
  {
   "cell_type": "code",
   "execution_count": 1,
   "id": "6e4bbedd-63e1-4992-a49f-e44d72fea7dd",
   "metadata": {},
   "outputs": [
    {
     "name": "stdout",
     "output_type": "stream",
     "text": [
      "3\n"
     ]
    }
   ],
   "source": [
    "a=1;\n",
    "b=2;\n",
    "c=a+b;\n",
    "print(c);"
   ]
  },
  {
   "cell_type": "code",
   "execution_count": 2,
   "id": "6a72b9bd-84c4-4046-b1b9-973466c34f8f",
   "metadata": {},
   "outputs": [],
   "source": [
    "def test():\n",
    "    a=10;\n",
    "    b=20;\n",
    "    c=a+b;\n",
    "    print(c);"
   ]
  },
  {
   "cell_type": "code",
   "execution_count": 3,
   "id": "c2c9908e-69d2-4a20-afbd-655a8a190a9d",
   "metadata": {},
   "outputs": [
    {
     "name": "stdout",
     "output_type": "stream",
     "text": [
      "30\n"
     ]
    }
   ],
   "source": [
    "test()"
   ]
  },
  {
   "cell_type": "code",
   "execution_count": 4,
   "id": "661aea19-0968-46a8-802a-fafacf778951",
   "metadata": {},
   "outputs": [],
   "source": [
    "a,b=10,20;"
   ]
  },
  {
   "cell_type": "code",
   "execution_count": 5,
   "id": "3a1522d7-b175-4975-89a3-5dd854b9f53c",
   "metadata": {},
   "outputs": [
    {
     "name": "stdout",
     "output_type": "stream",
     "text": [
      "10 20\n"
     ]
    }
   ],
   "source": [
    "print(a,b);"
   ]
  },
  {
   "cell_type": "code",
   "execution_count": null,
   "id": "d50cd61f-ee30-44d8-bdb7-64df010c79f6",
   "metadata": {},
   "outputs": [],
   "source": []
  },
  {
   "cell_type": "code",
   "execution_count": null,
   "id": "341af423-70f1-49f3-b388-55de1ef4cb74",
   "metadata": {},
   "outputs": [],
   "source": [
    "print(a,end=''))"
   ]
  },
  {
   "cell_type": "code",
   "execution_count": 11,
   "id": "c492a329-f1af-480e-8002-5ed1d0c15b34",
   "metadata": {},
   "outputs": [
    {
     "name": "stdout",
     "output_type": "stream",
     "text": [
      "10\t20\n"
     ]
    }
   ],
   "source": [
    "print(a,end='\\t');\n",
    "print(b);"
   ]
  },
  {
   "cell_type": "code",
   "execution_count": 12,
   "id": "febf467d-9a18-4fe1-b06d-ad943a26dcf4",
   "metadata": {},
   "outputs": [
    {
     "name": "stdout",
     "output_type": "stream",
     "text": [
      "120\n"
     ]
    }
   ],
   "source": [
    "print(a,end='\\b');\n",
    "print(b);"
   ]
  },
  {
   "cell_type": "code",
   "execution_count": 13,
   "id": "600ad3fd-e2a8-4b9b-a096-ff96e6f5a280",
   "metadata": {},
   "outputs": [],
   "source": [
    "a=10;\n",
    "b=20;\n",
    "c=30;"
   ]
  },
  {
   "cell_type": "code",
   "execution_count": 14,
   "id": "ae219279-8ad8-4b65-ae6f-48f38e4f893f",
   "metadata": {},
   "outputs": [
    {
     "name": "stdout",
     "output_type": "stream",
     "text": [
      "10\t230\n"
     ]
    }
   ],
   "source": [
    "print(a,end='\\t');\n",
    "print(b,end='\\b');\n",
    "print(c)"
   ]
  },
  {
   "cell_type": "code",
   "execution_count": 16,
   "id": "12e4ad06-e95f-45f4-a336-ac0a9fffd068",
   "metadata": {},
   "outputs": [
    {
     "name": "stdout",
     "output_type": "stream",
     "text": [
      "102030\n"
     ]
    }
   ],
   "source": [
    "print(a,end='');\n",
    "print(b,end='');\n",
    "print(c)"
   ]
  },
  {
   "cell_type": "code",
   "execution_count": 16,
   "id": "8374653c-b24c-447d-ae33-fa3cdcddd19a",
   "metadata": {},
   "outputs": [
    {
     "name": "stdout",
     "output_type": "stream",
     "text": [
      "102030\n"
     ]
    }
   ],
   "source": [
    "print(a,end='');\n",
    "print(b,end='');\n",
    "print(c)"
   ]
  },
  {
   "cell_type": "markdown",
   "id": "d5a4fa5e-759f-4ccb-b25b-20d3b18be15b",
   "metadata": {},
   "source": [
    "sep"
   ]
  },
  {
   "cell_type": "code",
   "execution_count": 21,
   "id": "942739e8-319f-4644-b3b4-b760f1c7d60e",
   "metadata": {},
   "outputs": [
    {
     "name": "stdout",
     "output_type": "stream",
     "text": [
      "10#20#30\n"
     ]
    }
   ],
   "source": [
    "print(a,b,c,sep='#');"
   ]
  },
  {
   "cell_type": "code",
   "execution_count": null,
   "id": "06bfc0ea-3cc4-47cd-bb04-dd7fa7455f07",
   "metadata": {},
   "outputs": [],
   "source": []
  }
 ],
 "metadata": {
  "kernelspec": {
   "display_name": "Python 3 (ipykernel)",
   "language": "python",
   "name": "python3"
  },
  "language_info": {
   "codemirror_mode": {
    "name": "ipython",
    "version": 3
   },
   "file_extension": ".py",
   "mimetype": "text/x-python",
   "name": "python",
   "nbconvert_exporter": "python",
   "pygments_lexer": "ipython3",
   "version": "3.10.6"
  }
 },
 "nbformat": 4,
 "nbformat_minor": 5
}
